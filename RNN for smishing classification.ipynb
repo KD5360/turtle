{
 "cells": [
  {
   "cell_type": "markdown",
   "metadata": {},
   "source": [
    "# Smishing classification using the RNN algorithm.\n",
    "\n",
    "I've competed the contest about financial letters analysis. I should classify which text is smishing or not by using the big data. So I got the data that include ID, text, smishing data(1 or 0). I've tried to do the text mining in korean letter for input to RNN model. It's too difficult korean text mining than english text mining."
   ]
  },
  {
   "cell_type": "code",
   "execution_count": 1,
   "metadata": {},
   "outputs": [
    {
     "name": "stderr",
     "output_type": "stream",
     "text": [
      "C:\\ProgramData\\Anaconda3\\lib\\site-packages\\konlpy\\tag\\_okt.py:16: UserWarning: \"Twitter\" has changed to \"Okt\" since KoNLPy v0.4.5.\n",
      "  warn('\"Twitter\" has changed to \"Okt\" since KoNLPy v0.4.5.')\n"
     ]
    }
   ],
   "source": [
    "import pandas as pd # Pandas for pre-processing data\n",
    "%matplotlib inline\n",
    "import matplotlib.pyplot as plt # Matplotlib for making graph\n",
    "import nltk # Nltk for tokenizing\n",
    "import konlpy # Konlpy for tokenizing in korean letter\n",
    "from konlpy.tag import Twitter # Twitter for tokenizing in korean letter\n",
    "import numpy as np # Numpy for pre-processing data\n",
    "from tqdm import tqdm_notebook # Tqdm for measuring the time about processing loop\n",
    "import time # Time for measuring the time about processing loop\n",
    "import tensorflow as tf # Tensorflow for modeling the RNN\n",
    "import random # Random for sampling data\n",
    "from tensorflow.keras.preprocessing.sequence import pad_sequences # For pre-processing data\n",
    "\n",
    "twitter = Twitter()\n",
    "train = pd.read_csv(\"KB_bank smishing contest/KB_bank smishing data/train.csv\",encoding='UTF-8')\n",
    "stop = pd.read_csv(\"KB_bank smishing contest/KB_bank smishing data/stop2.csv\",encoding='UTF-8')\n",
    "predict = pd.read_csv(\"KB_bank smishing contest/KB_bank smishing data/public_test.csv\",encoding='UTF-8')\n",
    "train.set_index('id',inplace=True)"
   ]
  },
  {
   "cell_type": "markdown",
   "metadata": {},
   "source": [
    "I've imported some of module to make the model and read 3 datas\n",
    "\n",
    "'train' is training data has more 200,000 datas about customer id, dates, text and smishing ( If the data is smishing data, then smishing is 1 if not 0. )\n",
    "\n",
    "'stop' is stopwords data to eliminate the stopwords in the text\n",
    "\n",
    "'predict' is prediction data to predict the smishing and measure the accuracy."
   ]
  },
  {
   "cell_type": "code",
   "execution_count": 2,
   "metadata": {},
   "outputs": [],
   "source": [
    "ran_train = train.sample(n=10000,random_state=0) # random sample and random seed = 0\n",
    "x_data = []\n",
    "for i in ran_train.index:\n",
    "    x_data.append(ran_train['text'][i]) # make x_data list for text"
   ]
  },
  {
   "cell_type": "markdown",
   "metadata": {},
   "source": [
    "I've extract just 10000 datas in 'train'. Because train is so big data has more 200,000 datas.\n",
    "\n",
    "So when I input all of data in 'train', the processing time for tokenizing and learning takes forever...\n",
    "\n",
    "( I've tried 150,000 datas in train for competetion. )"
   ]
  },
  {
   "cell_type": "code",
   "execution_count": 4,
   "metadata": {},
   "outputs": [
    {
     "name": "stdout",
     "output_type": "stream",
     "text": [
      "id\n",
      "287322    0\n",
      "80340     0\n",
      "207238    0\n",
      "302876    0\n",
      "302485    1\n",
      "         ..\n",
      "119627    0\n",
      "71466     0\n",
      "282436    0\n",
      "236150    0\n",
      "334344    0\n",
      "Name: smishing, Length: 10000, dtype: int64\n"
     ]
    }
   ],
   "source": [
    "y_data = ran_train['smishing'] # make y_data list for smishing(0 or 1)\n",
    "print(y_data)"
   ]
  },
  {
   "cell_type": "code",
   "execution_count": 5,
   "metadata": {},
   "outputs": [
    {
     "name": "stdout",
     "output_type": "stream",
     "text": [
      "time =  279.7789430618286\n"
     ]
    }
   ],
   "source": [
    "a=1\n",
    "train_final = []\n",
    "train_index = []\n",
    "train_sample = []\n",
    "train_whole_index = []\n",
    "\n",
    "stop_words=[i for i in stop['stop']] # stop words list\n",
    "\n",
    "start = time.time()   \n",
    "\n",
    "for x in x_data: # tokenize x_data and elminate stop words\n",
    "    train_smis_tokens = twitter.morphs(x)\n",
    "    train_result=[]\n",
    "    train_count=[]\n",
    "    for word in train_smis_tokens:\n",
    "        if word not in stop_words: \n",
    "                train_result.append(word) \n",
    "                \n",
    "    train_count=[word for word in train_result]            \n",
    "        \n",
    "    for n in range(len(train_count)): # index to what tokenized texts in train\n",
    "        if train_count[n] not in train_sample:   \n",
    "            train_count[n] = a\n",
    "            a=a+1\n",
    "            train_whole_index.append(train_count[n]) \n",
    "            train_sample.append(train_result[n]) \n",
    "                     \n",
    "        else:\n",
    "            for j in range(len(train_sample)):\n",
    "                if train_count[n] == train_sample[j]:\n",
    "                    train_count[n] = train_whole_index[j]\n",
    "                    break\n",
    "    train_final.append(train_result)\n",
    "    train_index.append(train_count)\n",
    "    \n",
    "print(\"time = \", time.time()-start)    "
   ]
  },
  {
   "cell_type": "markdown",
   "metadata": {},
   "source": [
    "This loops are to tokenize the korean text.\n",
    "\n",
    "If I tokenize the english letters, I'll treat too easily.\n",
    "\n",
    "I've tried tried tried ... finally, I created this python code"
   ]
  },
  {
   "cell_type": "code",
   "execution_count": 9,
   "metadata": {},
   "outputs": [
    {
     "name": "stdout",
     "output_type": "stream",
     "text": [
      "[[1, 2, 3, 4, 5, 6, 7, 8, 9, 10, 11, 12, 13, 14, 13, 15, 16, 17, 18, 19, 20, 21, 22, 23, 24, 25, 26, 27, 28, 29, 30, 21, 31, 32, 33, 34, 35, 2, 3, 22, 36, 37, 8, 38, 39, 40, 41, 42, 43, 44, 45, 46, 47, 48, 49, 50, 51, 52, 29, 53, 54, 55, 56, 57, 58, 59, 60, 61, 62, 63, 64, 44, 65, 66, 67, 68, 69, 6, 70, 71], [65, 72, 73, 74, 7, 22, 75, 76, 6, 77, 7, 71], [78, 2, 3, 79, 80, 81, 82, 83, 84, 85, 3, 58, 86, 87, 88, 83, 89, 90, 91, 92, 87, 93, 94, 95, 96, 97, 98, 83, 84, 85, 3, 58, 99, 100, 88, 101, 83, 102, 89, 90, 103, 91, 104, 105, 106, 107, 108, 109, 110, 111, 112, 66, 113, 114, 115, 116, 117, 62, 118, 119, 54, 66, 99, 100, 120, 121, 22, 122, 123, 124, 125, 120, 126, 5, 110, 127, 128, 129, 130, 99, 100, 131, 132, 118, 133, 134, 135, 136, 137, 87, 129, 138, 131, 132, 118, 133, 139, 135, 140, 137, 87, 129, 141, 142, 143, 144, 145, 146, 147, 148, 149, 143, 150, 151, 98, 152, 153, 4, 154, 155, 84, 156, 157, 147, 158, 91, 159, 37, 149, 19, 160, 161, 162, 87, 88, 124, 125, 163, 164, 165, 166, 100, 167, 168, 169, 170, 171, 87, 20, 33, 172, 6, 173, 132, 174, 175, 71, 176, 177, 178], [2, 3, 6, 10, 179, 180, 181, 182, 115, 101, 183, 184], [185, 78, 186, 187, 188, 189, 190, 88, 191, 192, 193, 194, 195, 193, 196, 24, 88, 66, 197, 2, 3, 198, 199, 88, 200, 120, 201, 202, 189, 88, 203, 204, 188, 189, 130, 205, 206, 207, 208, 209, 192, 210, 211, 194, 212, 213, 66, 214, 215, 216, 217, 218, 219, 189, 130, 220, 125, 221, 207, 208, 209, 192, 210, 211, 194, 212, 213, 66, 214, 215, 216, 222, 130, 223, 207, 208, 224, 225, 192, 208, 118, 206, 134, 2, 226, 98, 210, 211, 66, 214, 215, 216, 88, 191, 227, 228, 183, 20, 229, 230, 189, 159, 231, 6, 232, 233, 130, 210, 211, 98, 234, 235, 4, 188, 236, 58, 189, 159, 237, 20, 238, 237, 218, 88, 98, 219, 159, 239, 240, 241, 22, 242, 147, 144, 145, 5, 243, 244, 219, 159, 245, 246, 120, 247, 130, 248, 207, 120, 249, 66, 250, 251, 252, 61, 198, 253, 254, 255, 231, 256, 257, 189, 130, 120, 258, 259, 260, 261, 262, 189, 191, 239, 240, 241, 98, 263, 264, 265, 266, 267, 261, 268, 189, 269, 50, 270, 189, 271, 272, 273, 274, 20, 275, 252, 276, 277, 189, 62, 278, 279, 274, 248, 280, 66, 281, 282, 261, 188, 66, 283, 284, 115, 101, 285, 194, 286, 22, 287, 37, 288, 10, 289, 191, 286, 22, 290, 287, 291, 115, 292, 120, 293, 294, 295, 296, 297, 298, 299, 300, 301, 298, 302, 303, 22, 304, 305, 120, 306, 307, 308, 309, 298, 98, 310, 69, 177, 22, 311, 312, 313, 314, 315, 178, 316, 303, 22, 306, 307, 177, 178, 317, 66, 318, 22, 319, 320, 321, 322, 323, 324, 325, 326, 120, 327, 328, 176, 178, 185]]\n"
     ]
    }
   ],
   "source": [
    "print(train_index[0:5][:]) # print indexed datas"
   ]
  },
  {
   "cell_type": "code",
   "execution_count": 8,
   "metadata": {},
   "outputs": [
    {
     "name": "stdout",
     "output_type": "stream",
     "text": [
      "Max length in mail : 414\n"
     ]
    }
   ],
   "source": [
    "print('Max length in mail : %d' % max(len(l) for l in train_index))"
   ]
  },
  {
   "cell_type": "code",
   "execution_count": 12,
   "metadata": {},
   "outputs": [
    {
     "name": "stdout",
     "output_type": "stream",
     "text": [
      "time =  151.59440302848816\n"
     ]
    }
   ],
   "source": [
    "predict_x_data = [predict['text'][i] for i in predict.index] # make list for text in predict \n",
    "\n",
    "predict_final = []\n",
    "predict_index = []\n",
    "\n",
    "start = time.time()   \n",
    "\n",
    "for x in predict_x_data: # tokenize predict_x_data and eliminate stop words\n",
    "    predict_smis_tokens = twitter.morphs(x)\n",
    "    predict_result=[]\n",
    "    predict_count=[]\n",
    "    for word in predict_smis_tokens:\n",
    "        if word not in stop_words: \n",
    "                predict_result.append(word)\n",
    "            \n",
    "    predict_count=[word for word in predict_result]\n",
    "        \n",
    "    for n in range(len(predict_count)): # index to what tokenized texts in predict\n",
    "        if predict_count[n] not in train_sample:\n",
    "                predict_count[n] = a\n",
    "                a=a+1\n",
    "                train_whole_index.append(predict_count[n]) \n",
    "                train_sample.append(predict_result[n]) \n",
    "        else:\n",
    "            for j in range(len(train_sample)):\n",
    "                if predict_count[n] == train_sample[j]:\n",
    "                    predict_count[n] = train_whole_index[j]        \n",
    "                    break\n",
    "    predict_final.append(predict_result)\n",
    "    predict_index.append(predict_count)\n",
    "    \n",
    "print(\"time = \", time.time()-start)    "
   ]
  },
  {
   "cell_type": "markdown",
   "metadata": {},
   "source": [
    "This loops are same things with train data's"
   ]
  },
  {
   "cell_type": "code",
   "execution_count": 13,
   "metadata": {},
   "outputs": [
    {
     "name": "stdout",
     "output_type": "stream",
     "text": [
      "Max length in mail : 395\n"
     ]
    }
   ],
   "source": [
    "print('Max length in mail : %d' % max(len(l) for l in predict_final))"
   ]
  },
  {
   "cell_type": "code",
   "execution_count": 15,
   "metadata": {},
   "outputs": [
    {
     "name": "stdout",
     "output_type": "stream",
     "text": [
      "23794\n"
     ]
    }
   ],
   "source": [
    "print(len(train_whole_index)) # Total Number for indexing"
   ]
  },
  {
   "cell_type": "code",
   "execution_count": 16,
   "metadata": {},
   "outputs": [
    {
     "name": "stdout",
     "output_type": "stream",
     "text": [
      "data shape:  (10000, 414)\n"
     ]
    }
   ],
   "source": [
    "train_voca_size = len(train_whole_index) + 1 # make voca_size for modeling RNN\n",
    "X_data = train_index\n",
    "max_len = 414 # Vector length\n",
    "data = pad_sequences(X_data, maxlen = max_len)\n",
    "print(\"data shape: \", data.shape)"
   ]
  },
  {
   "cell_type": "code",
   "execution_count": 17,
   "metadata": {},
   "outputs": [],
   "source": [
    "X_train = data[:] \n",
    "y_train = np.array(y_data[:])"
   ]
  },
  {
   "cell_type": "markdown",
   "metadata": {},
   "source": [
    "Okay, it's finished to input the data to RNN.\n",
    "\n",
    "As you well know, data pre-processing occupy most of the data mining."
   ]
  },
  {
   "cell_type": "code",
   "execution_count": 18,
   "metadata": {},
   "outputs": [
    {
     "name": "stdout",
     "output_type": "stream",
     "text": [
      "Train on 7000 samples, validate on 3000 samples\n",
      "Epoch 1/10\n",
      "7000/7000 [==============================] - ETA: 5:33 - loss: 0.7281 - acc: 0.281 - ETA: 2:55 - loss: 0.6994 - acc: 0.476 - ETA: 2:07 - loss: 0.6518 - acc: 0.645 - ETA: 1:39 - loss: 0.7358 - acc: 0.492 - ETA: 1:23 - loss: 0.7678 - acc: 0.403 - ETA: 1:12 - loss: 0.7131 - acc: 0.494 - ETA: 1:04 - loss: 0.6828 - acc: 0.555 - ETA: 58s - loss: 0.6639 - acc: 0.607 - ETA: 54s - loss: 0.6406 - acc: 0.64 - ETA: 50s - loss: 0.6325 - acc: 0.67 - ETA: 46s - loss: 0.6167 - acc: 0.70 - ETA: 43s - loss: 0.5963 - acc: 0.72 - ETA: 41s - loss: 0.6053 - acc: 0.69 - ETA: 39s - loss: 0.6053 - acc: 0.70 - ETA: 37s - loss: 0.6087 - acc: 0.71 - ETA: 36s - loss: 0.6136 - acc: 0.70 - ETA: 34s - loss: 0.6114 - acc: 0.71 - ETA: 33s - loss: 0.6128 - acc: 0.72 - ETA: 32s - loss: 0.6079 - acc: 0.73 - ETA: 31s - loss: 0.6028 - acc: 0.74 - ETA: 30s - loss: 0.5953 - acc: 0.75 - ETA: 29s - loss: 0.5925 - acc: 0.76 - ETA: 28s - loss: 0.5820 - acc: 0.76 - ETA: 27s - loss: 0.5808 - acc: 0.77 - ETA: 26s - loss: 0.5734 - acc: 0.78 - ETA: 26s - loss: 0.5688 - acc: 0.79 - ETA: 25s - loss: 0.5600 - acc: 0.79 - ETA: 24s - loss: 0.5596 - acc: 0.80 - ETA: 24s - loss: 0.5526 - acc: 0.80 - ETA: 23s - loss: 0.5524 - acc: 0.81 - ETA: 23s - loss: 0.5514 - acc: 0.81 - ETA: 22s - loss: 0.5472 - acc: 0.82 - ETA: 22s - loss: 0.5405 - acc: 0.82 - ETA: 21s - loss: 0.5377 - acc: 0.82 - ETA: 21s - loss: 0.5322 - acc: 0.83 - ETA: 20s - loss: 0.5292 - acc: 0.83 - ETA: 20s - loss: 0.5235 - acc: 0.83 - ETA: 20s - loss: 0.5194 - acc: 0.84 - ETA: 19s - loss: 0.5151 - acc: 0.84 - ETA: 19s - loss: 0.5108 - acc: 0.84 - ETA: 18s - loss: 0.5066 - acc: 0.84 - ETA: 18s - loss: 0.5021 - acc: 0.85 - ETA: 17s - loss: 0.4968 - acc: 0.85 - ETA: 17s - loss: 0.4927 - acc: 0.85 - ETA: 17s - loss: 0.4891 - acc: 0.85 - ETA: 16s - loss: 0.4850 - acc: 0.85 - ETA: 16s - loss: 0.4808 - acc: 0.86 - ETA: 16s - loss: 0.4764 - acc: 0.86 - ETA: 15s - loss: 0.4734 - acc: 0.86 - ETA: 15s - loss: 0.4699 - acc: 0.86 - ETA: 15s - loss: 0.4668 - acc: 0.86 - ETA: 14s - loss: 0.4628 - acc: 0.86 - ETA: 14s - loss: 0.4587 - acc: 0.86 - ETA: 14s - loss: 0.4555 - acc: 0.86 - ETA: 13s - loss: 0.4520 - acc: 0.87 - ETA: 13s - loss: 0.4493 - acc: 0.87 - ETA: 13s - loss: 0.4462 - acc: 0.87 - ETA: 12s - loss: 0.4435 - acc: 0.87 - ETA: 12s - loss: 0.4407 - acc: 0.87 - ETA: 12s - loss: 0.4375 - acc: 0.87 - ETA: 12s - loss: 0.4341 - acc: 0.87 - ETA: 11s - loss: 0.4310 - acc: 0.87 - ETA: 11s - loss: 0.4276 - acc: 0.87 - ETA: 11s - loss: 0.4244 - acc: 0.87 - ETA: 10s - loss: 0.4204 - acc: 0.88 - ETA: 10s - loss: 0.4179 - acc: 0.88 - ETA: 10s - loss: 0.4151 - acc: 0.88 - ETA: 10s - loss: 0.4118 - acc: 0.88 - ETA: 9s - loss: 0.4089 - acc: 0.8843 - ETA: 9s - loss: 0.4065 - acc: 0.884 - ETA: 9s - loss: 0.4034 - acc: 0.885 - ETA: 9s - loss: 0.4008 - acc: 0.886 - ETA: 8s - loss: 0.3979 - acc: 0.887 - ETA: 8s - loss: 0.3950 - acc: 0.888 - ETA: 8s - loss: 0.3920 - acc: 0.889 - ETA: 8s - loss: 0.3890 - acc: 0.891 - ETA: 7s - loss: 0.3861 - acc: 0.891 - ETA: 7s - loss: 0.3831 - acc: 0.892 - ETA: 7s - loss: 0.3805 - acc: 0.893 - ETA: 7s - loss: 0.3777 - acc: 0.894 - ETA: 6s - loss: 0.3748 - acc: 0.895 - ETA: 6s - loss: 0.3727 - acc: 0.895 - ETA: 6s - loss: 0.3701 - acc: 0.896 - ETA: 6s - loss: 0.3673 - acc: 0.897 - ETA: 5s - loss: 0.3646 - acc: 0.898 - ETA: 5s - loss: 0.3625 - acc: 0.899 - ETA: 5s - loss: 0.3601 - acc: 0.900 - ETA: 5s - loss: 0.3575 - acc: 0.900 - ETA: 4s - loss: 0.3552 - acc: 0.901 - ETA: 4s - loss: 0.3530 - acc: 0.901 - ETA: 4s - loss: 0.3506 - acc: 0.902 - ETA: 4s - loss: 0.3481 - acc: 0.903 - ETA: 3s - loss: 0.3455 - acc: 0.904 - ETA: 3s - loss: 0.3435 - acc: 0.904 - ETA: 3s - loss: 0.3413 - acc: 0.905 - ETA: 3s - loss: 0.3392 - acc: 0.906 - ETA: 2s - loss: 0.3367 - acc: 0.907 - ETA: 2s - loss: 0.3346 - acc: 0.907 - ETA: 2s - loss: 0.3322 - acc: 0.908 - ETA: 2s - loss: 0.3299 - acc: 0.909 - ETA: 1s - loss: 0.3276 - acc: 0.910 - ETA: 1s - loss: 0.3257 - acc: 0.910 - ETA: 1s - loss: 0.3233 - acc: 0.911 - ETA: 1s - loss: 0.3214 - acc: 0.911 - ETA: 1s - loss: 0.3190 - acc: 0.912 - ETA: 0s - loss: 0.3171 - acc: 0.912 - ETA: 0s - loss: 0.3149 - acc: 0.913 - ETA: 0s - loss: 0.3130 - acc: 0.914 - ETA: 0s - loss: 0.3107 - acc: 0.914 - 27s 4ms/sample - loss: 0.3101 - acc: 0.9150 - val_loss: 0.0868 - val_acc: 0.9763\n",
      "Epoch 2/10\n"
     ]
    },
    {
     "name": "stdout",
     "output_type": "stream",
     "text": [
      "7000/7000 [==============================] - ETA: 13s - loss: 0.1021 - acc: 0.95 - ETA: 13s - loss: 0.0891 - acc: 0.96 - ETA: 13s - loss: 0.0821 - acc: 0.97 - ETA: 12s - loss: 0.0739 - acc: 0.98 - ETA: 13s - loss: 0.0736 - acc: 0.98 - ETA: 13s - loss: 0.0718 - acc: 0.98 - ETA: 13s - loss: 0.0741 - acc: 0.98 - ETA: 13s - loss: 0.0742 - acc: 0.98 - ETA: 13s - loss: 0.0790 - acc: 0.98 - ETA: 13s - loss: 0.0775 - acc: 0.98 - ETA: 13s - loss: 0.0805 - acc: 0.98 - ETA: 13s - loss: 0.0833 - acc: 0.98 - ETA: 13s - loss: 0.0802 - acc: 0.98 - ETA: 13s - loss: 0.0785 - acc: 0.98 - ETA: 13s - loss: 0.0768 - acc: 0.98 - ETA: 12s - loss: 0.0751 - acc: 0.98 - ETA: 12s - loss: 0.0788 - acc: 0.98 - ETA: 12s - loss: 0.0780 - acc: 0.98 - ETA: 12s - loss: 0.0771 - acc: 0.98 - ETA: 12s - loss: 0.0778 - acc: 0.97 - ETA: 12s - loss: 0.0764 - acc: 0.97 - ETA: 12s - loss: 0.0770 - acc: 0.97 - ETA: 11s - loss: 0.0766 - acc: 0.97 - ETA: 11s - loss: 0.0766 - acc: 0.97 - ETA: 11s - loss: 0.0761 - acc: 0.97 - ETA: 11s - loss: 0.0753 - acc: 0.97 - ETA: 11s - loss: 0.0744 - acc: 0.97 - ETA: 11s - loss: 0.0737 - acc: 0.97 - ETA: 11s - loss: 0.0732 - acc: 0.97 - ETA: 11s - loss: 0.0725 - acc: 0.97 - ETA: 10s - loss: 0.0718 - acc: 0.97 - ETA: 10s - loss: 0.0714 - acc: 0.98 - ETA: 10s - loss: 0.0721 - acc: 0.97 - ETA: 10s - loss: 0.0723 - acc: 0.97 - ETA: 10s - loss: 0.0718 - acc: 0.97 - ETA: 10s - loss: 0.0716 - acc: 0.97 - ETA: 10s - loss: 0.0706 - acc: 0.97 - ETA: 10s - loss: 0.0706 - acc: 0.97 - ETA: 9s - loss: 0.0698 - acc: 0.9792 - ETA: 9s - loss: 0.0697 - acc: 0.979 - ETA: 9s - loss: 0.0705 - acc: 0.979 - ETA: 9s - loss: 0.0699 - acc: 0.979 - ETA: 9s - loss: 0.0702 - acc: 0.978 - ETA: 9s - loss: 0.0691 - acc: 0.979 - ETA: 9s - loss: 0.0682 - acc: 0.979 - ETA: 8s - loss: 0.0672 - acc: 0.980 - ETA: 8s - loss: 0.0667 - acc: 0.980 - ETA: 8s - loss: 0.0664 - acc: 0.980 - ETA: 8s - loss: 0.0656 - acc: 0.980 - ETA: 8s - loss: 0.0651 - acc: 0.981 - ETA: 8s - loss: 0.0645 - acc: 0.981 - ETA: 8s - loss: 0.0638 - acc: 0.982 - ETA: 7s - loss: 0.0633 - acc: 0.982 - ETA: 7s - loss: 0.0627 - acc: 0.982 - ETA: 7s - loss: 0.0620 - acc: 0.982 - ETA: 7s - loss: 0.0614 - acc: 0.982 - ETA: 7s - loss: 0.0615 - acc: 0.982 - ETA: 7s - loss: 0.0617 - acc: 0.982 - ETA: 7s - loss: 0.0616 - acc: 0.982 - ETA: 6s - loss: 0.0611 - acc: 0.982 - ETA: 6s - loss: 0.0604 - acc: 0.982 - ETA: 6s - loss: 0.0598 - acc: 0.982 - ETA: 6s - loss: 0.0596 - acc: 0.982 - ETA: 6s - loss: 0.0590 - acc: 0.983 - ETA: 6s - loss: 0.0583 - acc: 0.983 - ETA: 6s - loss: 0.0580 - acc: 0.983 - ETA: 5s - loss: 0.0577 - acc: 0.983 - ETA: 5s - loss: 0.0571 - acc: 0.983 - ETA: 5s - loss: 0.0568 - acc: 0.983 - ETA: 5s - loss: 0.0562 - acc: 0.983 - ETA: 5s - loss: 0.0557 - acc: 0.984 - ETA: 5s - loss: 0.0551 - acc: 0.984 - ETA: 5s - loss: 0.0549 - acc: 0.984 - ETA: 4s - loss: 0.0549 - acc: 0.984 - ETA: 4s - loss: 0.0545 - acc: 0.984 - ETA: 4s - loss: 0.0540 - acc: 0.984 - ETA: 4s - loss: 0.0536 - acc: 0.985 - ETA: 4s - loss: 0.0532 - acc: 0.985 - ETA: 4s - loss: 0.0530 - acc: 0.985 - ETA: 4s - loss: 0.0528 - acc: 0.985 - ETA: 3s - loss: 0.0523 - acc: 0.985 - ETA: 3s - loss: 0.0521 - acc: 0.985 - ETA: 3s - loss: 0.0518 - acc: 0.985 - ETA: 3s - loss: 0.0514 - acc: 0.985 - ETA: 3s - loss: 0.0510 - acc: 0.986 - ETA: 3s - loss: 0.0506 - acc: 0.986 - ETA: 3s - loss: 0.0502 - acc: 0.986 - ETA: 3s - loss: 0.0497 - acc: 0.986 - ETA: 2s - loss: 0.0495 - acc: 0.986 - ETA: 2s - loss: 0.0498 - acc: 0.986 - ETA: 2s - loss: 0.0495 - acc: 0.986 - ETA: 2s - loss: 0.0491 - acc: 0.986 - ETA: 2s - loss: 0.0488 - acc: 0.986 - ETA: 2s - loss: 0.0484 - acc: 0.986 - ETA: 2s - loss: 0.0480 - acc: 0.987 - ETA: 1s - loss: 0.0477 - acc: 0.987 - ETA: 1s - loss: 0.0473 - acc: 0.987 - ETA: 1s - loss: 0.0471 - acc: 0.987 - ETA: 1s - loss: 0.0467 - acc: 0.987 - ETA: 1s - loss: 0.0476 - acc: 0.987 - ETA: 1s - loss: 0.0476 - acc: 0.987 - ETA: 1s - loss: 0.0473 - acc: 0.987 - ETA: 0s - loss: 0.0471 - acc: 0.987 - ETA: 0s - loss: 0.0468 - acc: 0.987 - ETA: 0s - loss: 0.0464 - acc: 0.987 - ETA: 0s - loss: 0.0461 - acc: 0.987 - ETA: 0s - loss: 0.0458 - acc: 0.987 - ETA: 0s - loss: 0.0458 - acc: 0.987 - ETA: 0s - loss: 0.0457 - acc: 0.987 - 17s 2ms/sample - loss: 0.0456 - acc: 0.9876 - val_loss: 0.0171 - val_acc: 0.9973\n",
      "Epoch 3/10\n"
     ]
    },
    {
     "name": "stdout",
     "output_type": "stream",
     "text": [
      "7000/7000 [==============================] - ETA: 13s - loss: 0.0094 - acc: 1.00 - ETA: 13s - loss: 0.0100 - acc: 1.00 - ETA: 14s - loss: 0.0096 - acc: 1.00 - ETA: 14s - loss: 0.0098 - acc: 1.00 - ETA: 14s - loss: 0.0104 - acc: 1.00 - ETA: 14s - loss: 0.0101 - acc: 1.00 - ETA: 13s - loss: 0.0100 - acc: 1.00 - ETA: 13s - loss: 0.0098 - acc: 1.00 - ETA: 13s - loss: 0.0101 - acc: 1.00 - ETA: 13s - loss: 0.0097 - acc: 1.00 - ETA: 13s - loss: 0.0094 - acc: 1.00 - ETA: 12s - loss: 0.0093 - acc: 1.00 - ETA: 12s - loss: 0.0090 - acc: 1.00 - ETA: 12s - loss: 0.0088 - acc: 1.00 - ETA: 12s - loss: 0.0089 - acc: 1.00 - ETA: 12s - loss: 0.0087 - acc: 1.00 - ETA: 12s - loss: 0.0085 - acc: 1.00 - ETA: 12s - loss: 0.0084 - acc: 1.00 - ETA: 12s - loss: 0.0084 - acc: 1.00 - ETA: 11s - loss: 0.0083 - acc: 1.00 - ETA: 11s - loss: 0.0084 - acc: 1.00 - ETA: 11s - loss: 0.0089 - acc: 1.00 - ETA: 11s - loss: 0.0087 - acc: 1.00 - ETA: 11s - loss: 0.0085 - acc: 1.00 - ETA: 11s - loss: 0.0085 - acc: 1.00 - ETA: 11s - loss: 0.0085 - acc: 1.00 - ETA: 11s - loss: 0.0088 - acc: 1.00 - ETA: 10s - loss: 0.0087 - acc: 1.00 - ETA: 10s - loss: 0.0090 - acc: 1.00 - ETA: 10s - loss: 0.0088 - acc: 1.00 - ETA: 10s - loss: 0.0087 - acc: 1.00 - ETA: 10s - loss: 0.0088 - acc: 1.00 - ETA: 10s - loss: 0.0103 - acc: 0.99 - ETA: 10s - loss: 0.0118 - acc: 0.99 - ETA: 10s - loss: 0.0117 - acc: 0.99 - ETA: 10s - loss: 0.0123 - acc: 0.99 - ETA: 9s - loss: 0.0121 - acc: 0.9987 - ETA: 9s - loss: 0.0120 - acc: 0.998 - ETA: 9s - loss: 0.0118 - acc: 0.998 - ETA: 9s - loss: 0.0144 - acc: 0.998 - ETA: 9s - loss: 0.0142 - acc: 0.998 - ETA: 9s - loss: 0.0140 - acc: 0.998 - ETA: 9s - loss: 0.0137 - acc: 0.998 - ETA: 9s - loss: 0.0135 - acc: 0.998 - ETA: 8s - loss: 0.0133 - acc: 0.998 - ETA: 8s - loss: 0.0132 - acc: 0.998 - ETA: 8s - loss: 0.0131 - acc: 0.998 - ETA: 8s - loss: 0.0130 - acc: 0.998 - ETA: 8s - loss: 0.0131 - acc: 0.998 - ETA: 8s - loss: 0.0131 - acc: 0.998 - ETA: 8s - loss: 0.0130 - acc: 0.998 - ETA: 8s - loss: 0.0131 - acc: 0.998 - ETA: 7s - loss: 0.0130 - acc: 0.998 - ETA: 7s - loss: 0.0129 - acc: 0.998 - ETA: 7s - loss: 0.0127 - acc: 0.998 - ETA: 7s - loss: 0.0126 - acc: 0.998 - ETA: 7s - loss: 0.0125 - acc: 0.998 - ETA: 7s - loss: 0.0123 - acc: 0.998 - ETA: 7s - loss: 0.0126 - acc: 0.998 - ETA: 6s - loss: 0.0125 - acc: 0.998 - ETA: 6s - loss: 0.0123 - acc: 0.998 - ETA: 6s - loss: 0.0122 - acc: 0.998 - ETA: 6s - loss: 0.0121 - acc: 0.998 - ETA: 6s - loss: 0.0120 - acc: 0.998 - ETA: 6s - loss: 0.0118 - acc: 0.998 - ETA: 6s - loss: 0.0116 - acc: 0.998 - ETA: 5s - loss: 0.0115 - acc: 0.998 - ETA: 5s - loss: 0.0114 - acc: 0.998 - ETA: 5s - loss: 0.0113 - acc: 0.998 - ETA: 5s - loss: 0.0112 - acc: 0.998 - ETA: 5s - loss: 0.0110 - acc: 0.998 - ETA: 5s - loss: 0.0111 - acc: 0.998 - ETA: 5s - loss: 0.0110 - acc: 0.998 - ETA: 4s - loss: 0.0109 - acc: 0.998 - ETA: 4s - loss: 0.0108 - acc: 0.998 - ETA: 4s - loss: 0.0108 - acc: 0.998 - ETA: 4s - loss: 0.0107 - acc: 0.998 - ETA: 4s - loss: 0.0106 - acc: 0.998 - ETA: 4s - loss: 0.0106 - acc: 0.998 - ETA: 4s - loss: 0.0105 - acc: 0.998 - ETA: 3s - loss: 0.0104 - acc: 0.998 - ETA: 3s - loss: 0.0103 - acc: 0.998 - ETA: 3s - loss: 0.0102 - acc: 0.998 - ETA: 3s - loss: 0.0101 - acc: 0.998 - ETA: 3s - loss: 0.0100 - acc: 0.998 - ETA: 3s - loss: 0.0100 - acc: 0.998 - ETA: 3s - loss: 0.0099 - acc: 0.998 - ETA: 2s - loss: 0.0099 - acc: 0.998 - ETA: 2s - loss: 0.0098 - acc: 0.998 - ETA: 2s - loss: 0.0097 - acc: 0.998 - ETA: 2s - loss: 0.0096 - acc: 0.998 - ETA: 2s - loss: 0.0098 - acc: 0.998 - ETA: 2s - loss: 0.0097 - acc: 0.998 - ETA: 2s - loss: 0.0097 - acc: 0.998 - ETA: 2s - loss: 0.0096 - acc: 0.998 - ETA: 1s - loss: 0.0096 - acc: 0.998 - ETA: 1s - loss: 0.0095 - acc: 0.998 - ETA: 1s - loss: 0.0094 - acc: 0.998 - ETA: 1s - loss: 0.0094 - acc: 0.998 - ETA: 1s - loss: 0.0093 - acc: 0.998 - ETA: 1s - loss: 0.0092 - acc: 0.998 - ETA: 1s - loss: 0.0092 - acc: 0.998 - ETA: 0s - loss: 0.0091 - acc: 0.998 - ETA: 0s - loss: 0.0090 - acc: 0.998 - ETA: 0s - loss: 0.0089 - acc: 0.998 - ETA: 0s - loss: 0.0089 - acc: 0.998 - ETA: 0s - loss: 0.0088 - acc: 0.998 - ETA: 0s - loss: 0.0090 - acc: 0.998 - ETA: 0s - loss: 0.0096 - acc: 0.998 - 17s 2ms/sample - loss: 0.0096 - acc: 0.9983 - val_loss: 0.0098 - val_acc: 0.9973\n",
      "Epoch 4/10\n"
     ]
    },
    {
     "name": "stdout",
     "output_type": "stream",
     "text": [
      "7000/7000 [==============================] - ETA: 13s - loss: 0.0041 - acc: 1.00 - ETA: 14s - loss: 0.0028 - acc: 1.00 - ETA: 15s - loss: 0.0025 - acc: 1.00 - ETA: 14s - loss: 0.0022 - acc: 1.00 - ETA: 15s - loss: 0.0020 - acc: 1.00 - ETA: 15s - loss: 0.0021 - acc: 1.00 - ETA: 14s - loss: 0.0020 - acc: 1.00 - ETA: 14s - loss: 0.0019 - acc: 1.00 - ETA: 14s - loss: 0.0029 - acc: 1.00 - ETA: 13s - loss: 0.0028 - acc: 1.00 - ETA: 13s - loss: 0.0027 - acc: 1.00 - ETA: 13s - loss: 0.0026 - acc: 1.00 - ETA: 13s - loss: 0.0026 - acc: 1.00 - ETA: 13s - loss: 0.0025 - acc: 1.00 - ETA: 13s - loss: 0.0025 - acc: 1.00 - ETA: 12s - loss: 0.0024 - acc: 1.00 - ETA: 12s - loss: 0.0023 - acc: 1.00 - ETA: 12s - loss: 0.0023 - acc: 1.00 - ETA: 12s - loss: 0.0022 - acc: 1.00 - ETA: 12s - loss: 0.0022 - acc: 1.00 - ETA: 12s - loss: 0.0021 - acc: 1.00 - ETA: 12s - loss: 0.0021 - acc: 1.00 - ETA: 12s - loss: 0.0021 - acc: 1.00 - ETA: 11s - loss: 0.0020 - acc: 1.00 - ETA: 11s - loss: 0.0020 - acc: 1.00 - ETA: 11s - loss: 0.0019 - acc: 1.00 - ETA: 11s - loss: 0.0019 - acc: 1.00 - ETA: 11s - loss: 0.0019 - acc: 1.00 - ETA: 11s - loss: 0.0018 - acc: 1.00 - ETA: 11s - loss: 0.0018 - acc: 1.00 - ETA: 11s - loss: 0.0018 - acc: 1.00 - ETA: 10s - loss: 0.0018 - acc: 1.00 - ETA: 10s - loss: 0.0017 - acc: 1.00 - ETA: 10s - loss: 0.0018 - acc: 1.00 - ETA: 10s - loss: 0.0038 - acc: 0.99 - ETA: 10s - loss: 0.0037 - acc: 0.99 - ETA: 10s - loss: 0.0037 - acc: 0.99 - ETA: 10s - loss: 0.0036 - acc: 0.99 - ETA: 10s - loss: 0.0036 - acc: 0.99 - ETA: 10s - loss: 0.0036 - acc: 0.99 - ETA: 9s - loss: 0.0035 - acc: 0.9996 - ETA: 9s - loss: 0.0035 - acc: 0.999 - ETA: 9s - loss: 0.0034 - acc: 0.999 - ETA: 9s - loss: 0.0034 - acc: 0.999 - ETA: 9s - loss: 0.0033 - acc: 0.999 - ETA: 9s - loss: 0.0033 - acc: 0.999 - ETA: 9s - loss: 0.0032 - acc: 0.999 - ETA: 9s - loss: 0.0032 - acc: 0.999 - ETA: 8s - loss: 0.0033 - acc: 0.999 - ETA: 8s - loss: 0.0033 - acc: 0.999 - ETA: 8s - loss: 0.0032 - acc: 0.999 - ETA: 8s - loss: 0.0032 - acc: 0.999 - ETA: 8s - loss: 0.0032 - acc: 0.999 - ETA: 8s - loss: 0.0031 - acc: 0.999 - ETA: 8s - loss: 0.0031 - acc: 0.999 - ETA: 7s - loss: 0.0031 - acc: 0.999 - ETA: 7s - loss: 0.0031 - acc: 0.999 - ETA: 7s - loss: 0.0031 - acc: 0.999 - ETA: 7s - loss: 0.0030 - acc: 0.999 - ETA: 7s - loss: 0.0030 - acc: 0.999 - ETA: 7s - loss: 0.0030 - acc: 0.999 - ETA: 7s - loss: 0.0029 - acc: 0.999 - ETA: 6s - loss: 0.0029 - acc: 0.999 - ETA: 6s - loss: 0.0029 - acc: 0.999 - ETA: 6s - loss: 0.0029 - acc: 0.999 - ETA: 6s - loss: 0.0029 - acc: 0.999 - ETA: 6s - loss: 0.0028 - acc: 0.999 - ETA: 6s - loss: 0.0028 - acc: 0.999 - ETA: 5s - loss: 0.0028 - acc: 0.999 - ETA: 5s - loss: 0.0027 - acc: 0.999 - ETA: 5s - loss: 0.0027 - acc: 0.999 - ETA: 5s - loss: 0.0027 - acc: 0.999 - ETA: 5s - loss: 0.0026 - acc: 0.999 - ETA: 5s - loss: 0.0026 - acc: 0.999 - ETA: 5s - loss: 0.0026 - acc: 0.999 - ETA: 4s - loss: 0.0026 - acc: 0.999 - ETA: 4s - loss: 0.0025 - acc: 0.999 - ETA: 4s - loss: 0.0025 - acc: 0.999 - ETA: 4s - loss: 0.0025 - acc: 0.999 - ETA: 4s - loss: 0.0025 - acc: 0.999 - ETA: 4s - loss: 0.0024 - acc: 0.999 - ETA: 4s - loss: 0.0024 - acc: 0.999 - ETA: 3s - loss: 0.0024 - acc: 0.999 - ETA: 3s - loss: 0.0033 - acc: 0.999 - ETA: 3s - loss: 0.0033 - acc: 0.999 - ETA: 3s - loss: 0.0033 - acc: 0.999 - ETA: 3s - loss: 0.0033 - acc: 0.999 - ETA: 3s - loss: 0.0032 - acc: 0.999 - ETA: 3s - loss: 0.0032 - acc: 0.999 - ETA: 2s - loss: 0.0032 - acc: 0.999 - ETA: 2s - loss: 0.0032 - acc: 0.999 - ETA: 2s - loss: 0.0031 - acc: 0.999 - ETA: 2s - loss: 0.0031 - acc: 0.999 - ETA: 2s - loss: 0.0031 - acc: 0.999 - ETA: 2s - loss: 0.0030 - acc: 0.999 - ETA: 1s - loss: 0.0041 - acc: 0.999 - ETA: 1s - loss: 0.0052 - acc: 0.999 - ETA: 1s - loss: 0.0058 - acc: 0.999 - ETA: 1s - loss: 0.0058 - acc: 0.999 - ETA: 1s - loss: 0.0066 - acc: 0.998 - ETA: 1s - loss: 0.0066 - acc: 0.998 - ETA: 1s - loss: 0.0068 - acc: 0.998 - ETA: 0s - loss: 0.0068 - acc: 0.998 - ETA: 0s - loss: 0.0071 - acc: 0.998 - ETA: 0s - loss: 0.0070 - acc: 0.998 - ETA: 0s - loss: 0.0071 - acc: 0.998 - ETA: 0s - loss: 0.0071 - acc: 0.998 - ETA: 0s - loss: 0.0070 - acc: 0.998 - ETA: 0s - loss: 0.0070 - acc: 0.998 - 18s 3ms/sample - loss: 0.0069 - acc: 0.9986 - val_loss: 0.0107 - val_acc: 0.9960\n",
      "Epoch 5/10\n"
     ]
    },
    {
     "name": "stdout",
     "output_type": "stream",
     "text": [
      "7000/7000 [==============================] - ETA: 14s - loss: 0.0015 - acc: 1.00 - ETA: 14s - loss: 9.8201e-04 - acc: 1.00 - ETA: 14s - loss: 8.2231e-04 - acc: 1.00 - ETA: 13s - loss: 7.4713e-04 - acc: 1.00 - ETA: 13s - loss: 0.0039 - acc: 1.0000   - ETA: 13s - loss: 0.0033 - acc: 1.00 - ETA: 13s - loss: 0.0029 - acc: 1.00 - ETA: 13s - loss: 0.0025 - acc: 1.00 - ETA: 13s - loss: 0.0024 - acc: 1.00 - ETA: 13s - loss: 0.0022 - acc: 1.00 - ETA: 13s - loss: 0.0020 - acc: 1.00 - ETA: 13s - loss: 0.0019 - acc: 1.00 - ETA: 12s - loss: 0.0018 - acc: 1.00 - ETA: 12s - loss: 0.0017 - acc: 1.00 - ETA: 13s - loss: 0.0016 - acc: 1.00 - ETA: 13s - loss: 0.0016 - acc: 1.00 - ETA: 13s - loss: 0.0015 - acc: 1.00 - ETA: 14s - loss: 0.0016 - acc: 1.00 - ETA: 14s - loss: 0.0015 - acc: 1.00 - ETA: 14s - loss: 0.0014 - acc: 1.00 - ETA: 13s - loss: 0.0014 - acc: 1.00 - ETA: 13s - loss: 0.0014 - acc: 1.00 - ETA: 13s - loss: 0.0013 - acc: 1.00 - ETA: 13s - loss: 0.0013 - acc: 1.00 - ETA: 12s - loss: 0.0012 - acc: 1.00 - ETA: 12s - loss: 0.0012 - acc: 1.00 - ETA: 12s - loss: 0.0012 - acc: 1.00 - ETA: 12s - loss: 0.0012 - acc: 1.00 - ETA: 12s - loss: 0.0012 - acc: 1.00 - ETA: 12s - loss: 0.0012 - acc: 1.00 - ETA: 11s - loss: 0.0011 - acc: 1.00 - ETA: 11s - loss: 0.0011 - acc: 1.00 - ETA: 11s - loss: 0.0011 - acc: 1.00 - ETA: 11s - loss: 0.0011 - acc: 1.00 - ETA: 11s - loss: 0.0012 - acc: 1.00 - ETA: 10s - loss: 0.0012 - acc: 1.00 - ETA: 10s - loss: 0.0012 - acc: 1.00 - ETA: 10s - loss: 0.0011 - acc: 1.00 - ETA: 10s - loss: 0.0011 - acc: 1.00 - ETA: 10s - loss: 0.0011 - acc: 1.00 - ETA: 10s - loss: 0.0011 - acc: 1.00 - ETA: 9s - loss: 0.0011 - acc: 1.0000 - ETA: 9s - loss: 0.0011 - acc: 1.000 - ETA: 9s - loss: 0.0011 - acc: 1.000 - ETA: 9s - loss: 0.0011 - acc: 1.000 - ETA: 9s - loss: 0.0010 - acc: 1.000 - ETA: 9s - loss: 0.0026 - acc: 0.999 - ETA: 8s - loss: 0.0026 - acc: 0.999 - ETA: 8s - loss: 0.0026 - acc: 0.999 - ETA: 8s - loss: 0.0025 - acc: 0.999 - ETA: 8s - loss: 0.0025 - acc: 0.999 - ETA: 8s - loss: 0.0025 - acc: 0.999 - ETA: 8s - loss: 0.0024 - acc: 0.999 - ETA: 7s - loss: 0.0024 - acc: 0.999 - ETA: 7s - loss: 0.0024 - acc: 0.999 - ETA: 7s - loss: 0.0023 - acc: 0.999 - ETA: 7s - loss: 0.0023 - acc: 0.999 - ETA: 7s - loss: 0.0023 - acc: 0.999 - ETA: 7s - loss: 0.0023 - acc: 0.999 - ETA: 7s - loss: 0.0022 - acc: 0.999 - ETA: 6s - loss: 0.0022 - acc: 0.999 - ETA: 6s - loss: 0.0022 - acc: 0.999 - ETA: 6s - loss: 0.0035 - acc: 0.999 - ETA: 6s - loss: 0.0035 - acc: 0.999 - ETA: 6s - loss: 0.0034 - acc: 0.999 - ETA: 6s - loss: 0.0034 - acc: 0.999 - ETA: 6s - loss: 0.0033 - acc: 0.999 - ETA: 5s - loss: 0.0033 - acc: 0.999 - ETA: 5s - loss: 0.0042 - acc: 0.999 - ETA: 5s - loss: 0.0041 - acc: 0.999 - ETA: 5s - loss: 0.0041 - acc: 0.999 - ETA: 5s - loss: 0.0040 - acc: 0.999 - ETA: 5s - loss: 0.0040 - acc: 0.999 - ETA: 5s - loss: 0.0039 - acc: 0.999 - ETA: 4s - loss: 0.0042 - acc: 0.999 - ETA: 4s - loss: 0.0041 - acc: 0.999 - ETA: 4s - loss: 0.0041 - acc: 0.999 - ETA: 4s - loss: 0.0040 - acc: 0.999 - ETA: 4s - loss: 0.0040 - acc: 0.999 - ETA: 4s - loss: 0.0039 - acc: 0.999 - ETA: 4s - loss: 0.0039 - acc: 0.999 - ETA: 3s - loss: 0.0039 - acc: 0.999 - ETA: 3s - loss: 0.0038 - acc: 0.999 - ETA: 3s - loss: 0.0038 - acc: 0.999 - ETA: 3s - loss: 0.0043 - acc: 0.998 - ETA: 3s - loss: 0.0043 - acc: 0.998 - ETA: 3s - loss: 0.0042 - acc: 0.998 - ETA: 3s - loss: 0.0042 - acc: 0.998 - ETA: 2s - loss: 0.0042 - acc: 0.998 - ETA: 2s - loss: 0.0041 - acc: 0.999 - ETA: 2s - loss: 0.0041 - acc: 0.999 - ETA: 2s - loss: 0.0040 - acc: 0.999 - ETA: 2s - loss: 0.0040 - acc: 0.999 - ETA: 2s - loss: 0.0040 - acc: 0.999 - ETA: 2s - loss: 0.0039 - acc: 0.999 - ETA: 1s - loss: 0.0039 - acc: 0.999 - ETA: 1s - loss: 0.0039 - acc: 0.999 - ETA: 1s - loss: 0.0038 - acc: 0.999 - ETA: 1s - loss: 0.0038 - acc: 0.999 - ETA: 1s - loss: 0.0038 - acc: 0.999 - ETA: 1s - loss: 0.0037 - acc: 0.999 - ETA: 1s - loss: 0.0037 - acc: 0.999 - ETA: 0s - loss: 0.0037 - acc: 0.999 - ETA: 0s - loss: 0.0036 - acc: 0.999 - ETA: 0s - loss: 0.0036 - acc: 0.999 - ETA: 0s - loss: 0.0036 - acc: 0.999 - ETA: 0s - loss: 0.0036 - acc: 0.999 - ETA: 0s - loss: 0.0035 - acc: 0.999 - ETA: 0s - loss: 0.0035 - acc: 0.999 - 17s 2ms/sample - loss: 0.0035 - acc: 0.9991 - val_loss: 0.0078 - val_acc: 0.9977\n",
      "Epoch 6/10\n"
     ]
    },
    {
     "name": "stdout",
     "output_type": "stream",
     "text": [
      "7000/7000 [==============================] - ETA: 14s - loss: 1.5408e-04 - acc: 1.00 - ETA: 13s - loss: 1.9484e-04 - acc: 1.00 - ETA: 14s - loss: 2.7928e-04 - acc: 1.00 - ETA: 14s - loss: 2.8487e-04 - acc: 1.00 - ETA: 13s - loss: 3.6808e-04 - acc: 1.00 - ETA: 13s - loss: 3.3687e-04 - acc: 1.00 - ETA: 13s - loss: 3.3161e-04 - acc: 1.00 - ETA: 13s - loss: 3.1531e-04 - acc: 1.00 - ETA: 13s - loss: 3.0686e-04 - acc: 1.00 - ETA: 13s - loss: 3.0469e-04 - acc: 1.00 - ETA: 13s - loss: 3.0018e-04 - acc: 1.00 - ETA: 12s - loss: 2.8909e-04 - acc: 1.00 - ETA: 12s - loss: 3.2954e-04 - acc: 1.00 - ETA: 12s - loss: 3.2692e-04 - acc: 1.00 - ETA: 12s - loss: 3.3184e-04 - acc: 1.00 - ETA: 12s - loss: 3.3052e-04 - acc: 1.00 - ETA: 12s - loss: 3.2714e-04 - acc: 1.00 - ETA: 12s - loss: 3.1794e-04 - acc: 1.00 - ETA: 12s - loss: 3.0766e-04 - acc: 1.00 - ETA: 11s - loss: 2.9909e-04 - acc: 1.00 - ETA: 11s - loss: 2.9348e-04 - acc: 1.00 - ETA: 11s - loss: 2.9058e-04 - acc: 1.00 - ETA: 11s - loss: 2.8617e-04 - acc: 1.00 - ETA: 11s - loss: 2.8053e-04 - acc: 1.00 - ETA: 11s - loss: 2.8306e-04 - acc: 1.00 - ETA: 11s - loss: 2.7641e-04 - acc: 1.00 - ETA: 11s - loss: 2.7960e-04 - acc: 1.00 - ETA: 10s - loss: 2.7280e-04 - acc: 1.00 - ETA: 10s - loss: 2.6629e-04 - acc: 1.00 - ETA: 10s - loss: 2.6245e-04 - acc: 1.00 - ETA: 10s - loss: 2.5875e-04 - acc: 1.00 - ETA: 10s - loss: 2.5339e-04 - acc: 1.00 - ETA: 10s - loss: 2.4864e-04 - acc: 1.00 - ETA: 10s - loss: 2.4419e-04 - acc: 1.00 - ETA: 9s - loss: 2.4021e-04 - acc: 1.0000 - ETA: 9s - loss: 2.3782e-04 - acc: 1.000 - ETA: 9s - loss: 2.3646e-04 - acc: 1.000 - ETA: 9s - loss: 2.3892e-04 - acc: 1.000 - ETA: 9s - loss: 2.3780e-04 - acc: 1.000 - ETA: 9s - loss: 2.3396e-04 - acc: 1.000 - ETA: 9s - loss: 2.3127e-04 - acc: 1.000 - ETA: 9s - loss: 2.2993e-04 - acc: 1.000 - ETA: 9s - loss: 2.2706e-04 - acc: 1.000 - ETA: 8s - loss: 2.2402e-04 - acc: 1.000 - ETA: 8s - loss: 2.2149e-04 - acc: 1.000 - ETA: 8s - loss: 2.1970e-04 - acc: 1.000 - ETA: 8s - loss: 2.1634e-04 - acc: 1.000 - ETA: 8s - loss: 2.3257e-04 - acc: 1.000 - ETA: 8s - loss: 0.0012 - acc: 0.9997    - ETA: 8s - loss: 0.0157 - acc: 0.995 - ETA: 7s - loss: 0.0154 - acc: 0.995 - ETA: 7s - loss: 0.0155 - acc: 0.995 - ETA: 7s - loss: 0.0152 - acc: 0.995 - ETA: 7s - loss: 0.0149 - acc: 0.995 - ETA: 7s - loss: 0.0146 - acc: 0.995 - ETA: 7s - loss: 0.0144 - acc: 0.995 - ETA: 7s - loss: 0.0141 - acc: 0.995 - ETA: 6s - loss: 0.0146 - acc: 0.995 - ETA: 6s - loss: 0.0143 - acc: 0.995 - ETA: 6s - loss: 0.0141 - acc: 0.995 - ETA: 6s - loss: 0.0139 - acc: 0.995 - ETA: 6s - loss: 0.0137 - acc: 0.996 - ETA: 6s - loss: 0.0134 - acc: 0.996 - ETA: 6s - loss: 0.0132 - acc: 0.996 - ETA: 6s - loss: 0.0130 - acc: 0.996 - ETA: 5s - loss: 0.0128 - acc: 0.996 - ETA: 5s - loss: 0.0127 - acc: 0.996 - ETA: 5s - loss: 0.0125 - acc: 0.996 - ETA: 5s - loss: 0.0123 - acc: 0.996 - ETA: 5s - loss: 0.0121 - acc: 0.996 - ETA: 5s - loss: 0.0120 - acc: 0.996 - ETA: 5s - loss: 0.0118 - acc: 0.996 - ETA: 4s - loss: 0.0116 - acc: 0.996 - ETA: 4s - loss: 0.0115 - acc: 0.996 - ETA: 4s - loss: 0.0114 - acc: 0.996 - ETA: 4s - loss: 0.0112 - acc: 0.996 - ETA: 4s - loss: 0.0111 - acc: 0.996 - ETA: 4s - loss: 0.0109 - acc: 0.996 - ETA: 4s - loss: 0.0108 - acc: 0.996 - ETA: 4s - loss: 0.0107 - acc: 0.996 - ETA: 3s - loss: 0.0105 - acc: 0.996 - ETA: 3s - loss: 0.0104 - acc: 0.997 - ETA: 3s - loss: 0.0103 - acc: 0.997 - ETA: 3s - loss: 0.0106 - acc: 0.996 - ETA: 3s - loss: 0.0105 - acc: 0.996 - ETA: 3s - loss: 0.0103 - acc: 0.996 - ETA: 3s - loss: 0.0102 - acc: 0.996 - ETA: 2s - loss: 0.0101 - acc: 0.997 - ETA: 2s - loss: 0.0100 - acc: 0.997 - ETA: 2s - loss: 0.0099 - acc: 0.997 - ETA: 2s - loss: 0.0098 - acc: 0.997 - ETA: 2s - loss: 0.0097 - acc: 0.997 - ETA: 2s - loss: 0.0096 - acc: 0.997 - ETA: 2s - loss: 0.0095 - acc: 0.997 - ETA: 1s - loss: 0.0094 - acc: 0.997 - ETA: 1s - loss: 0.0103 - acc: 0.997 - ETA: 1s - loss: 0.0102 - acc: 0.997 - ETA: 1s - loss: 0.0101 - acc: 0.997 - ETA: 1s - loss: 0.0100 - acc: 0.997 - ETA: 1s - loss: 0.0099 - acc: 0.997 - ETA: 1s - loss: 0.0098 - acc: 0.997 - ETA: 1s - loss: 0.0097 - acc: 0.997 - ETA: 0s - loss: 0.0096 - acc: 0.997 - ETA: 0s - loss: 0.0095 - acc: 0.997 - ETA: 0s - loss: 0.0094 - acc: 0.997 - ETA: 0s - loss: 0.0093 - acc: 0.997 - ETA: 0s - loss: 0.0092 - acc: 0.997 - ETA: 0s - loss: 0.0091 - acc: 0.997 - ETA: 0s - loss: 0.0091 - acc: 0.997 - 16s 2ms/sample - loss: 0.0090 - acc: 0.9974 - val_loss: 0.0087 - val_acc: 0.9983\n",
      "Epoch 7/10\n"
     ]
    },
    {
     "name": "stdout",
     "output_type": "stream",
     "text": [
      "7000/7000 [==============================] - ETA: 16s - loss: 1.0171e-04 - acc: 1.00 - ETA: 14s - loss: 9.2780e-05 - acc: 1.00 - ETA: 14s - loss: 9.0876e-05 - acc: 1.00 - ETA: 13s - loss: 1.0571e-04 - acc: 1.00 - ETA: 13s - loss: 9.6928e-05 - acc: 1.00 - ETA: 13s - loss: 9.7418e-05 - acc: 1.00 - ETA: 13s - loss: 1.0145e-04 - acc: 1.00 - ETA: 13s - loss: 1.0352e-04 - acc: 1.00 - ETA: 13s - loss: 1.0672e-04 - acc: 1.00 - ETA: 13s - loss: 1.1788e-04 - acc: 1.00 - ETA: 12s - loss: 1.1347e-04 - acc: 1.00 - ETA: 12s - loss: 1.1014e-04 - acc: 1.00 - ETA: 12s - loss: 1.0983e-04 - acc: 1.00 - ETA: 12s - loss: 1.0606e-04 - acc: 1.00 - ETA: 12s - loss: 1.0553e-04 - acc: 1.00 - ETA: 11s - loss: 1.0514e-04 - acc: 1.00 - ETA: 11s - loss: 1.0397e-04 - acc: 1.00 - ETA: 11s - loss: 1.8647e-04 - acc: 1.00 - ETA: 11s - loss: 1.8147e-04 - acc: 1.00 - ETA: 11s - loss: 1.7770e-04 - acc: 1.00 - ETA: 11s - loss: 1.7323e-04 - acc: 1.00 - ETA: 10s - loss: 1.7053e-04 - acc: 1.00 - ETA: 10s - loss: 1.6709e-04 - acc: 1.00 - ETA: 10s - loss: 1.6397e-04 - acc: 1.00 - ETA: 10s - loss: 1.5941e-04 - acc: 1.00 - ETA: 10s - loss: 1.5651e-04 - acc: 1.00 - ETA: 10s - loss: 1.5282e-04 - acc: 1.00 - ETA: 10s - loss: 1.5068e-04 - acc: 1.00 - ETA: 10s - loss: 1.4840e-04 - acc: 1.00 - ETA: 10s - loss: 1.4593e-04 - acc: 1.00 - ETA: 10s - loss: 1.4440e-04 - acc: 1.00 - ETA: 10s - loss: 1.4155e-04 - acc: 1.00 - ETA: 10s - loss: 1.3987e-04 - acc: 1.00 - ETA: 9s - loss: 1.3776e-04 - acc: 1.0000 - ETA: 9s - loss: 1.3626e-04 - acc: 1.000 - ETA: 9s - loss: 1.3433e-04 - acc: 1.000 - ETA: 9s - loss: 1.3390e-04 - acc: 1.000 - ETA: 9s - loss: 1.3158e-04 - acc: 1.000 - ETA: 9s - loss: 0.0025 - acc: 0.9996    - ETA: 9s - loss: 0.0025 - acc: 0.999 - ETA: 9s - loss: 0.0024 - acc: 0.999 - ETA: 9s - loss: 0.0038 - acc: 0.999 - ETA: 8s - loss: 0.0037 - acc: 0.999 - ETA: 8s - loss: 0.0036 - acc: 0.999 - ETA: 8s - loss: 0.0035 - acc: 0.999 - ETA: 8s - loss: 0.0034 - acc: 0.999 - ETA: 8s - loss: 0.0035 - acc: 0.999 - ETA: 8s - loss: 0.0034 - acc: 0.999 - ETA: 8s - loss: 0.0033 - acc: 0.999 - ETA: 8s - loss: 0.0033 - acc: 0.999 - ETA: 8s - loss: 0.0032 - acc: 0.999 - ETA: 7s - loss: 0.0031 - acc: 0.999 - ETA: 7s - loss: 0.0031 - acc: 0.999 - ETA: 7s - loss: 0.0030 - acc: 0.999 - ETA: 7s - loss: 0.0030 - acc: 0.999 - ETA: 7s - loss: 0.0029 - acc: 0.999 - ETA: 7s - loss: 0.0029 - acc: 0.999 - ETA: 7s - loss: 0.0028 - acc: 0.999 - ETA: 7s - loss: 0.0028 - acc: 0.999 - ETA: 6s - loss: 0.0027 - acc: 0.999 - ETA: 6s - loss: 0.0027 - acc: 0.999 - ETA: 6s - loss: 0.0027 - acc: 0.999 - ETA: 6s - loss: 0.0026 - acc: 0.999 - ETA: 6s - loss: 0.0026 - acc: 0.999 - ETA: 6s - loss: 0.0026 - acc: 0.999 - ETA: 6s - loss: 0.0025 - acc: 0.999 - ETA: 6s - loss: 0.0025 - acc: 0.999 - ETA: 5s - loss: 0.0024 - acc: 0.999 - ETA: 5s - loss: 0.0024 - acc: 0.999 - ETA: 5s - loss: 0.0024 - acc: 0.999 - ETA: 5s - loss: 0.0024 - acc: 0.999 - ETA: 5s - loss: 0.0023 - acc: 0.999 - ETA: 5s - loss: 0.0023 - acc: 0.999 - ETA: 5s - loss: 0.0023 - acc: 0.999 - ETA: 4s - loss: 0.0022 - acc: 0.999 - ETA: 4s - loss: 0.0022 - acc: 0.999 - ETA: 4s - loss: 0.0022 - acc: 0.999 - ETA: 4s - loss: 0.0022 - acc: 0.999 - ETA: 4s - loss: 0.0021 - acc: 0.999 - ETA: 4s - loss: 0.0021 - acc: 0.999 - ETA: 4s - loss: 0.0021 - acc: 0.999 - ETA: 3s - loss: 0.0021 - acc: 0.999 - ETA: 3s - loss: 0.0020 - acc: 0.999 - ETA: 3s - loss: 0.0020 - acc: 0.999 - ETA: 3s - loss: 0.0020 - acc: 0.999 - ETA: 3s - loss: 0.0020 - acc: 0.999 - ETA: 3s - loss: 0.0019 - acc: 0.999 - ETA: 3s - loss: 0.0019 - acc: 0.999 - ETA: 2s - loss: 0.0019 - acc: 0.999 - ETA: 2s - loss: 0.0019 - acc: 0.999 - ETA: 2s - loss: 0.0019 - acc: 0.999 - ETA: 2s - loss: 0.0018 - acc: 0.999 - ETA: 2s - loss: 0.0018 - acc: 0.999 - ETA: 2s - loss: 0.0018 - acc: 0.999 - ETA: 2s - loss: 0.0018 - acc: 0.999 - ETA: 1s - loss: 0.0018 - acc: 0.999 - ETA: 1s - loss: 0.0018 - acc: 0.999 - ETA: 1s - loss: 0.0017 - acc: 0.999 - ETA: 1s - loss: 0.0017 - acc: 0.999 - ETA: 1s - loss: 0.0017 - acc: 0.999 - ETA: 1s - loss: 0.0017 - acc: 0.999 - ETA: 1s - loss: 0.0017 - acc: 0.999 - ETA: 0s - loss: 0.0017 - acc: 0.999 - ETA: 0s - loss: 0.0016 - acc: 0.999 - ETA: 0s - loss: 0.0016 - acc: 0.999 - ETA: 0s - loss: 0.0016 - acc: 0.999 - ETA: 0s - loss: 0.0016 - acc: 0.999 - ETA: 0s - loss: 0.0016 - acc: 0.999 - ETA: 0s - loss: 0.0016 - acc: 0.999 - 19s 3ms/sample - loss: 0.0016 - acc: 0.9997 - val_loss: 0.0085 - val_acc: 0.9980\n",
      "Epoch 8/10\n"
     ]
    },
    {
     "name": "stdout",
     "output_type": "stream",
     "text": [
      "7000/7000 [==============================] - ETA: 16s - loss: 5.2670e-05 - acc: 1.00 - ETA: 16s - loss: 4.9343e-05 - acc: 1.00 - ETA: 16s - loss: 4.5868e-05 - acc: 1.00 - ETA: 17s - loss: 4.4173e-05 - acc: 1.00 - ETA: 18s - loss: 5.4801e-05 - acc: 1.00 - ETA: 17s - loss: 5.3253e-05 - acc: 1.00 - ETA: 17s - loss: 5.4430e-05 - acc: 1.00 - ETA: 17s - loss: 5.3882e-05 - acc: 1.00 - ETA: 16s - loss: 5.4935e-05 - acc: 1.00 - ETA: 16s - loss: 5.4617e-05 - acc: 1.00 - ETA: 16s - loss: 5.2825e-05 - acc: 1.00 - ETA: 16s - loss: 5.0548e-05 - acc: 1.00 - ETA: 15s - loss: 5.1047e-05 - acc: 1.00 - ETA: 15s - loss: 4.9341e-05 - acc: 1.00 - ETA: 15s - loss: 0.0022 - acc: 0.9990   - ETA: 15s - loss: 0.0020 - acc: 0.99 - ETA: 14s - loss: 0.0019 - acc: 0.99 - ETA: 14s - loss: 0.0018 - acc: 0.99 - ETA: 14s - loss: 0.0017 - acc: 0.99 - ETA: 14s - loss: 0.0017 - acc: 0.99 - ETA: 14s - loss: 0.0016 - acc: 0.99 - ETA: 14s - loss: 0.0015 - acc: 0.99 - ETA: 13s - loss: 0.0014 - acc: 0.99 - ETA: 13s - loss: 0.0014 - acc: 0.99 - ETA: 13s - loss: 0.0013 - acc: 0.99 - ETA: 13s - loss: 0.0013 - acc: 0.99 - ETA: 13s - loss: 0.0012 - acc: 0.99 - ETA: 13s - loss: 0.0012 - acc: 0.99 - ETA: 12s - loss: 0.0012 - acc: 0.99 - ETA: 12s - loss: 0.0011 - acc: 0.99 - ETA: 12s - loss: 0.0011 - acc: 0.99 - ETA: 12s - loss: 0.0011 - acc: 0.99 - ETA: 12s - loss: 0.0010 - acc: 0.99 - ETA: 12s - loss: 0.0010 - acc: 0.99 - ETA: 12s - loss: 9.7902e-04 - acc: 0.99 - ETA: 11s - loss: 0.0022 - acc: 0.9991   - ETA: 11s - loss: 0.0021 - acc: 0.99 - ETA: 11s - loss: 0.0021 - acc: 0.99 - ETA: 11s - loss: 0.0020 - acc: 0.99 - ETA: 11s - loss: 0.0020 - acc: 0.99 - ETA: 10s - loss: 0.0019 - acc: 0.99 - ETA: 10s - loss: 0.0019 - acc: 0.99 - ETA: 10s - loss: 0.0018 - acc: 0.99 - ETA: 10s - loss: 0.0018 - acc: 0.99 - ETA: 10s - loss: 0.0018 - acc: 0.99 - ETA: 10s - loss: 0.0017 - acc: 0.99 - ETA: 10s - loss: 0.0017 - acc: 0.99 - ETA: 9s - loss: 0.0016 - acc: 0.9993 - ETA: 9s - loss: 0.0016 - acc: 0.999 - ETA: 9s - loss: 0.0016 - acc: 0.999 - ETA: 9s - loss: 0.0016 - acc: 0.999 - ETA: 9s - loss: 0.0015 - acc: 0.999 - ETA: 8s - loss: 0.0015 - acc: 0.999 - ETA: 8s - loss: 0.0015 - acc: 0.999 - ETA: 8s - loss: 0.0014 - acc: 0.999 - ETA: 8s - loss: 0.0014 - acc: 0.999 - ETA: 8s - loss: 0.0014 - acc: 0.999 - ETA: 8s - loss: 0.0014 - acc: 0.999 - ETA: 7s - loss: 0.0013 - acc: 0.999 - ETA: 7s - loss: 0.0013 - acc: 0.999 - ETA: 7s - loss: 0.0013 - acc: 0.999 - ETA: 7s - loss: 0.0013 - acc: 0.999 - ETA: 7s - loss: 0.0013 - acc: 0.999 - ETA: 7s - loss: 0.0012 - acc: 0.999 - ETA: 7s - loss: 0.0012 - acc: 0.999 - ETA: 7s - loss: 0.0012 - acc: 0.999 - ETA: 7s - loss: 0.0012 - acc: 0.999 - ETA: 6s - loss: 0.0012 - acc: 0.999 - ETA: 6s - loss: 0.0012 - acc: 0.999 - ETA: 6s - loss: 0.0011 - acc: 0.999 - ETA: 6s - loss: 0.0011 - acc: 0.999 - ETA: 6s - loss: 0.0011 - acc: 0.999 - ETA: 5s - loss: 0.0011 - acc: 0.999 - ETA: 5s - loss: 0.0011 - acc: 0.999 - ETA: 5s - loss: 0.0011 - acc: 0.999 - ETA: 5s - loss: 0.0011 - acc: 0.999 - ETA: 5s - loss: 0.0010 - acc: 0.999 - ETA: 5s - loss: 0.0010 - acc: 0.999 - ETA: 4s - loss: 0.0010 - acc: 0.999 - ETA: 4s - loss: 0.0010 - acc: 0.999 - ETA: 4s - loss: 9.9135e-04 - acc: 0.999 - ETA: 4s - loss: 9.7966e-04 - acc: 0.999 - ETA: 4s - loss: 9.6821e-04 - acc: 0.999 - ETA: 4s - loss: 9.5703e-04 - acc: 0.999 - ETA: 3s - loss: 9.4599e-04 - acc: 0.999 - ETA: 3s - loss: 9.3572e-04 - acc: 0.999 - ETA: 3s - loss: 9.2552e-04 - acc: 0.999 - ETA: 3s - loss: 0.0013 - acc: 0.9995    - ETA: 3s - loss: 0.0013 - acc: 0.999 - ETA: 3s - loss: 0.0013 - acc: 0.999 - ETA: 2s - loss: 0.0012 - acc: 0.999 - ETA: 2s - loss: 0.0012 - acc: 0.999 - ETA: 2s - loss: 0.0012 - acc: 0.999 - ETA: 2s - loss: 0.0012 - acc: 0.999 - ETA: 2s - loss: 0.0012 - acc: 0.999 - ETA: 2s - loss: 0.0012 - acc: 0.999 - ETA: 1s - loss: 0.0012 - acc: 0.999 - ETA: 1s - loss: 0.0012 - acc: 0.999 - ETA: 1s - loss: 0.0011 - acc: 0.999 - ETA: 1s - loss: 0.0021 - acc: 0.999 - ETA: 1s - loss: 0.0020 - acc: 0.999 - ETA: 1s - loss: 0.0020 - acc: 0.999 - ETA: 0s - loss: 0.0020 - acc: 0.999 - ETA: 0s - loss: 0.0020 - acc: 0.999 - ETA: 0s - loss: 0.0020 - acc: 0.999 - ETA: 0s - loss: 0.0020 - acc: 0.999 - ETA: 0s - loss: 0.0020 - acc: 0.999 - ETA: 0s - loss: 0.0019 - acc: 0.999 - ETA: 0s - loss: 0.0019 - acc: 0.999 - 18s 3ms/sample - loss: 0.0019 - acc: 0.9994 - val_loss: 0.0139 - val_acc: 0.9967\n",
      "Epoch 9/10\n"
     ]
    },
    {
     "name": "stdout",
     "output_type": "stream",
     "text": [
      "7000/7000 [==============================] - ETA: 13s - loss: 3.2323e-05 - acc: 1.00 - ETA: 13s - loss: 5.0460e-05 - acc: 1.00 - ETA: 12s - loss: 4.3003e-05 - acc: 1.00 - ETA: 12s - loss: 0.0048 - acc: 0.9961   - ETA: 12s - loss: 0.0038 - acc: 0.99 - ETA: 12s - loss: 0.0032 - acc: 0.99 - ETA: 12s - loss: 0.0028 - acc: 0.99 - ETA: 12s - loss: 0.0025 - acc: 0.99 - ETA: 12s - loss: 0.0023 - acc: 0.99 - ETA: 12s - loss: 0.0020 - acc: 0.99 - ETA: 12s - loss: 0.0019 - acc: 0.99 - ETA: 11s - loss: 0.0017 - acc: 0.99 - ETA: 12s - loss: 0.0023 - acc: 0.99 - ETA: 12s - loss: 0.0021 - acc: 0.99 - ETA: 12s - loss: 0.0020 - acc: 0.99 - ETA: 12s - loss: 0.0019 - acc: 0.99 - ETA: 11s - loss: 0.0018 - acc: 0.99 - ETA: 11s - loss: 0.0017 - acc: 0.99 - ETA: 11s - loss: 0.0016 - acc: 0.99 - ETA: 11s - loss: 0.0015 - acc: 0.99 - ETA: 11s - loss: 0.0014 - acc: 0.99 - ETA: 11s - loss: 0.0014 - acc: 0.99 - ETA: 11s - loss: 0.0013 - acc: 0.99 - ETA: 10s - loss: 0.0013 - acc: 0.99 - ETA: 10s - loss: 0.0012 - acc: 0.99 - ETA: 10s - loss: 0.0012 - acc: 0.99 - ETA: 10s - loss: 0.0012 - acc: 0.99 - ETA: 10s - loss: 0.0011 - acc: 0.99 - ETA: 10s - loss: 0.0011 - acc: 0.99 - ETA: 10s - loss: 0.0010 - acc: 0.99 - ETA: 10s - loss: 0.0010 - acc: 0.99 - ETA: 10s - loss: 9.8893e-04 - acc: 0.99 - ETA: 9s - loss: 9.6047e-04 - acc: 0.9995 - ETA: 9s - loss: 9.3517e-04 - acc: 0.999 - ETA: 9s - loss: 9.1021e-04 - acc: 0.999 - ETA: 9s - loss: 8.8600e-04 - acc: 0.999 - ETA: 9s - loss: 8.6389e-04 - acc: 0.999 - ETA: 9s - loss: 8.4335e-04 - acc: 0.999 - ETA: 9s - loss: 8.2234e-04 - acc: 0.999 - ETA: 9s - loss: 8.4061e-04 - acc: 0.999 - ETA: 9s - loss: 8.2140e-04 - acc: 0.999 - ETA: 9s - loss: 8.0307e-04 - acc: 0.999 - ETA: 9s - loss: 7.8670e-04 - acc: 0.999 - ETA: 8s - loss: 7.7194e-04 - acc: 0.999 - ETA: 8s - loss: 7.5563e-04 - acc: 0.999 - ETA: 8s - loss: 7.4097e-04 - acc: 0.999 - ETA: 8s - loss: 7.2675e-04 - acc: 0.999 - ETA: 8s - loss: 7.1403e-04 - acc: 0.999 - ETA: 8s - loss: 7.0126e-04 - acc: 0.999 - ETA: 8s - loss: 6.8806e-04 - acc: 0.999 - ETA: 7s - loss: 0.0021 - acc: 0.9994    - ETA: 7s - loss: 0.0020 - acc: 0.999 - ETA: 7s - loss: 0.0020 - acc: 0.999 - ETA: 7s - loss: 0.0019 - acc: 0.999 - ETA: 7s - loss: 0.0019 - acc: 0.999 - ETA: 7s - loss: 0.0019 - acc: 0.999 - ETA: 7s - loss: 0.0019 - acc: 0.999 - ETA: 6s - loss: 0.0018 - acc: 0.999 - ETA: 6s - loss: 0.0018 - acc: 0.999 - ETA: 6s - loss: 0.0018 - acc: 0.999 - ETA: 6s - loss: 0.0017 - acc: 0.999 - ETA: 6s - loss: 0.0017 - acc: 0.999 - ETA: 6s - loss: 0.0017 - acc: 0.999 - ETA: 6s - loss: 0.0017 - acc: 0.999 - ETA: 5s - loss: 0.0019 - acc: 0.999 - ETA: 5s - loss: 0.0019 - acc: 0.999 - ETA: 5s - loss: 0.0018 - acc: 0.999 - ETA: 5s - loss: 0.0018 - acc: 0.999 - ETA: 5s - loss: 0.0018 - acc: 0.999 - ETA: 5s - loss: 0.0018 - acc: 0.999 - ETA: 5s - loss: 0.0017 - acc: 0.999 - ETA: 5s - loss: 0.0017 - acc: 0.999 - ETA: 4s - loss: 0.0017 - acc: 0.999 - ETA: 4s - loss: 0.0017 - acc: 0.999 - ETA: 4s - loss: 0.0016 - acc: 0.999 - ETA: 4s - loss: 0.0016 - acc: 0.999 - ETA: 4s - loss: 0.0016 - acc: 0.999 - ETA: 4s - loss: 0.0016 - acc: 0.999 - ETA: 4s - loss: 0.0016 - acc: 0.999 - ETA: 3s - loss: 0.0015 - acc: 0.999 - ETA: 3s - loss: 0.0015 - acc: 0.999 - ETA: 3s - loss: 0.0015 - acc: 0.999 - ETA: 3s - loss: 0.0015 - acc: 0.999 - ETA: 3s - loss: 0.0015 - acc: 0.999 - ETA: 3s - loss: 0.0015 - acc: 0.999 - ETA: 3s - loss: 0.0014 - acc: 0.999 - ETA: 2s - loss: 0.0014 - acc: 0.999 - ETA: 2s - loss: 0.0014 - acc: 0.999 - ETA: 2s - loss: 0.0014 - acc: 0.999 - ETA: 2s - loss: 0.0014 - acc: 0.999 - ETA: 2s - loss: 0.0014 - acc: 0.999 - ETA: 2s - loss: 0.0013 - acc: 0.999 - ETA: 2s - loss: 0.0013 - acc: 0.999 - ETA: 2s - loss: 0.0013 - acc: 0.999 - ETA: 1s - loss: 0.0013 - acc: 0.999 - ETA: 1s - loss: 0.0016 - acc: 0.999 - ETA: 1s - loss: 0.0016 - acc: 0.999 - ETA: 1s - loss: 0.0016 - acc: 0.999 - ETA: 1s - loss: 0.0016 - acc: 0.999 - ETA: 1s - loss: 0.0015 - acc: 0.999 - ETA: 1s - loss: 0.0015 - acc: 0.999 - ETA: 0s - loss: 0.0015 - acc: 0.999 - ETA: 0s - loss: 0.0015 - acc: 0.999 - ETA: 0s - loss: 0.0015 - acc: 0.999 - ETA: 0s - loss: 0.0015 - acc: 0.999 - ETA: 0s - loss: 0.0015 - acc: 0.999 - ETA: 0s - loss: 0.0014 - acc: 0.999 - ETA: 0s - loss: 0.0021 - acc: 0.999 - ETA: 0s - loss: 0.0021 - acc: 0.999 - 16s 2ms/sample - loss: 0.0021 - acc: 0.9993 - val_loss: 0.0166 - val_acc: 0.9960\n",
      "Epoch 10/10\n"
     ]
    },
    {
     "name": "stdout",
     "output_type": "stream",
     "text": [
      "7000/7000 [==============================] - ETA: 13s - loss: 3.3624e-04 - acc: 1.00 - ETA: 15s - loss: 1.9679e-04 - acc: 1.00 - ETA: 14s - loss: 1.5610e-04 - acc: 1.00 - ETA: 14s - loss: 1.3783e-04 - acc: 1.00 - ETA: 13s - loss: 1.1853e-04 - acc: 1.00 - ETA: 12s - loss: 1.2159e-04 - acc: 1.00 - ETA: 12s - loss: 1.1045e-04 - acc: 1.00 - ETA: 12s - loss: 1.0499e-04 - acc: 1.00 - ETA: 12s - loss: 9.6649e-05 - acc: 1.00 - ETA: 11s - loss: 9.5786e-05 - acc: 1.00 - ETA: 11s - loss: 9.1438e-05 - acc: 1.00 - ETA: 11s - loss: 8.6278e-05 - acc: 1.00 - ETA: 11s - loss: 8.2395e-05 - acc: 1.00 - ETA: 11s - loss: 1.0873e-04 - acc: 1.00 - ETA: 11s - loss: 1.0475e-04 - acc: 1.00 - ETA: 11s - loss: 1.0192e-04 - acc: 1.00 - ETA: 11s - loss: 9.7463e-05 - acc: 1.00 - ETA: 11s - loss: 9.5812e-05 - acc: 1.00 - ETA: 11s - loss: 9.3519e-05 - acc: 1.00 - ETA: 10s - loss: 9.0279e-05 - acc: 1.00 - ETA: 10s - loss: 8.7596e-05 - acc: 1.00 - ETA: 10s - loss: 5.7528e-04 - acc: 1.00 - ETA: 10s - loss: 5.5168e-04 - acc: 1.00 - ETA: 10s - loss: 5.3046e-04 - acc: 1.00 - ETA: 10s - loss: 5.1041e-04 - acc: 1.00 - ETA: 10s - loss: 4.9211e-04 - acc: 1.00 - ETA: 10s - loss: 4.7526e-04 - acc: 1.00 - ETA: 9s - loss: 4.5926e-04 - acc: 1.0000 - ETA: 9s - loss: 4.4471e-04 - acc: 1.000 - ETA: 9s - loss: 4.3091e-04 - acc: 1.000 - ETA: 9s - loss: 4.1831e-04 - acc: 1.000 - ETA: 9s - loss: 4.0614e-04 - acc: 1.000 - ETA: 9s - loss: 3.9495e-04 - acc: 1.000 - ETA: 9s - loss: 3.8414e-04 - acc: 1.000 - ETA: 9s - loss: 3.7463e-04 - acc: 1.000 - ETA: 8s - loss: 3.6559e-04 - acc: 1.000 - ETA: 8s - loss: 3.5770e-04 - acc: 1.000 - ETA: 8s - loss: 3.4916e-04 - acc: 1.000 - ETA: 8s - loss: 3.4108e-04 - acc: 1.000 - ETA: 8s - loss: 3.3446e-04 - acc: 1.000 - ETA: 8s - loss: 3.2732e-04 - acc: 1.000 - ETA: 8s - loss: 3.2149e-04 - acc: 1.000 - ETA: 8s - loss: 3.1563e-04 - acc: 1.000 - ETA: 8s - loss: 3.0893e-04 - acc: 1.000 - ETA: 8s - loss: 3.0274e-04 - acc: 1.000 - ETA: 8s - loss: 2.9713e-04 - acc: 1.000 - ETA: 8s - loss: 2.9256e-04 - acc: 1.000 - ETA: 8s - loss: 2.8703e-04 - acc: 1.000 - ETA: 8s - loss: 2.8187e-04 - acc: 1.000 - ETA: 7s - loss: 2.7674e-04 - acc: 1.000 - ETA: 7s - loss: 2.7212e-04 - acc: 1.000 - ETA: 7s - loss: 2.6764e-04 - acc: 1.000 - ETA: 7s - loss: 2.6375e-04 - acc: 1.000 - ETA: 7s - loss: 2.6279e-04 - acc: 1.000 - ETA: 7s - loss: 2.5856e-04 - acc: 1.000 - ETA: 7s - loss: 2.5438e-04 - acc: 1.000 - ETA: 7s - loss: 2.5031e-04 - acc: 1.000 - ETA: 6s - loss: 2.4632e-04 - acc: 1.000 - ETA: 6s - loss: 2.4296e-04 - acc: 1.000 - ETA: 6s - loss: 2.3944e-04 - acc: 1.000 - ETA: 6s - loss: 2.3598e-04 - acc: 1.000 - ETA: 6s - loss: 0.0014 - acc: 0.9997    - ETA: 6s - loss: 0.0014 - acc: 0.999 - ETA: 6s - loss: 0.0014 - acc: 0.999 - ETA: 5s - loss: 0.0014 - acc: 0.999 - ETA: 5s - loss: 0.0014 - acc: 0.999 - ETA: 5s - loss: 0.0014 - acc: 0.999 - ETA: 5s - loss: 0.0013 - acc: 0.999 - ETA: 5s - loss: 0.0013 - acc: 0.999 - ETA: 5s - loss: 0.0013 - acc: 0.999 - ETA: 5s - loss: 0.0013 - acc: 0.999 - ETA: 4s - loss: 0.0013 - acc: 0.999 - ETA: 4s - loss: 0.0013 - acc: 0.999 - ETA: 4s - loss: 0.0013 - acc: 0.999 - ETA: 4s - loss: 0.0013 - acc: 0.999 - ETA: 4s - loss: 0.0012 - acc: 0.999 - ETA: 4s - loss: 0.0012 - acc: 0.999 - ETA: 4s - loss: 0.0012 - acc: 0.999 - ETA: 4s - loss: 0.0013 - acc: 0.999 - ETA: 3s - loss: 0.0015 - acc: 0.999 - ETA: 3s - loss: 0.0014 - acc: 0.999 - ETA: 3s - loss: 0.0014 - acc: 0.999 - ETA: 3s - loss: 0.0014 - acc: 0.999 - ETA: 3s - loss: 0.0014 - acc: 0.999 - ETA: 3s - loss: 0.0014 - acc: 0.999 - ETA: 3s - loss: 0.0014 - acc: 0.999 - ETA: 2s - loss: 0.0013 - acc: 0.999 - ETA: 2s - loss: 0.0013 - acc: 0.999 - ETA: 2s - loss: 0.0013 - acc: 0.999 - ETA: 2s - loss: 0.0013 - acc: 0.999 - ETA: 2s - loss: 0.0013 - acc: 0.999 - ETA: 2s - loss: 0.0013 - acc: 0.999 - ETA: 2s - loss: 0.0013 - acc: 0.999 - ETA: 2s - loss: 0.0012 - acc: 0.999 - ETA: 2s - loss: 0.0012 - acc: 0.999 - ETA: 1s - loss: 0.0012 - acc: 0.999 - ETA: 1s - loss: 0.0012 - acc: 0.999 - ETA: 1s - loss: 0.0012 - acc: 0.999 - ETA: 1s - loss: 0.0012 - acc: 0.999 - ETA: 1s - loss: 0.0012 - acc: 0.999 - ETA: 1s - loss: 0.0012 - acc: 0.999 - ETA: 1s - loss: 0.0012 - acc: 0.999 - ETA: 0s - loss: 0.0011 - acc: 0.999 - ETA: 0s - loss: 0.0011 - acc: 0.999 - ETA: 0s - loss: 0.0011 - acc: 0.999 - ETA: 0s - loss: 0.0011 - acc: 0.999 - ETA: 0s - loss: 0.0011 - acc: 0.999 - ETA: 0s - loss: 0.0011 - acc: 0.999 - ETA: 0s - loss: 0.0011 - acc: 0.999 - 18s 3ms/sample - loss: 0.0011 - acc: 0.9997 - val_loss: 0.0127 - val_acc: 0.9970\n"
     ]
    }
   ],
   "source": [
    "from tensorflow.keras.layers import SimpleRNN, Embedding, Dense \n",
    "from tensorflow.keras.models import Sequential\n",
    "\n",
    "model = Sequential()\n",
    "model.add(Embedding(train_voca_size, 32))\n",
    "model.add(SimpleRNN(32))\n",
    "model.add(Dense(1, activation='sigmoid'))\n",
    "\n",
    "model.compile(optimizer='rmsprop', loss='binary_crossentropy', metrics=['acc'])\n",
    "history = model.fit(X_train, y_train, batch_size=64,epochs=10, validation_split=0.3)"
   ]
  },
  {
   "cell_type": "code",
   "execution_count": 19,
   "metadata": {},
   "outputs": [
    {
     "data": {
      "image/png": "[encoded data removed]",
      "text/plain": [
       "<Figure size 432x288 with 1 Axes>"
      ]
     },
     "metadata": {
      "needs_background": "light"
     },
     "output_type": "display_data"
    }
   ],
   "source": [
    "epochs = range(1, len(history.history['acc']) + 1)\n",
    "plt.plot(epochs, history.history['loss'])\n",
    "plt.plot(epochs, history.history['val_loss'])\n",
    "plt.title('Model loss')\n",
    "plt.ylabel('loss')\n",
    "plt.xlabel('epoch')\n",
    "plt.legend(['train', 'val'], loc='upper left')\n",
    "plt.show()"
   ]
  },
  {
   "cell_type": "markdown",
   "metadata": {},
   "source": [
    "It's not bad result !!"
   ]
  },
  {
   "cell_type": "code",
   "execution_count": 20,
   "metadata": {},
   "outputs": [
    {
     "name": "stdout",
     "output_type": "stream",
     "text": [
      "data shape:  (1626, 414)\n"
     ]
    }
   ],
   "source": [
    "predict_data = predict_index\n",
    "p_data = pad_sequences(predict_data, maxlen=max_len)\n",
    "print(\"data shape: \", p_data.shape)"
   ]
  },
  {
   "cell_type": "code",
   "execution_count": 21,
   "metadata": {},
   "outputs": [
    {
     "name": "stdout",
     "output_type": "stream",
     "text": [
      "[[   0    0    0 ... 1819  175   71]\n",
      " [   0    0    0 ...   49  295   76]\n",
      " [   0    0    0 ...  431    6   71]\n",
      " ...\n",
      " [   0    0    0 ... 1200 1806   71]\n",
      " [   0    0    0 ...  176  177  178]\n",
      " [   0    0    0 ...  176  177  178]]\n"
     ]
    }
   ],
   "source": [
    "print(p_data)"
   ]
  },
  {
   "cell_type": "markdown",
   "metadata": {},
   "source": [
    "Predict data pre-processing"
   ]
  },
  {
   "cell_type": "code",
   "execution_count": 22,
   "metadata": {},
   "outputs": [],
   "source": [
    "from pandas import DataFrame as df\n",
    "y_pred = model.predict_classes(p_data)\n",
    "auc_pred = model.predict_proba(p_data)\n",
    "auc_pred_smis = [auc_pred[n][0] for n in range(len(auc_pred))]\n",
    "auc_pred_df = df(data={'smishing' : auc_pred_smis})\n",
    "y_pred_smis = [y_pred[n][0] for n in range(len(y_pred))]\n",
    "y_pred_df = df(data={'smishing' : y_pred_smis})"
   ]
  },
  {
   "cell_type": "code",
   "execution_count": 23,
   "metadata": {},
   "outputs": [],
   "source": [
    "test_pred_df = pd.concat([predict,y_pred_df],axis=1)\n",
    "sub_pred_df = pd.concat([predict,auc_pred_df],axis=1)"
   ]
  },
  {
   "cell_type": "code",
   "execution_count": 24,
   "metadata": {},
   "outputs": [
    {
     "name": "stdout",
     "output_type": "stream",
     "text": [
      "105\n"
     ]
    }
   ],
   "source": [
    "counter = []\n",
    "for n in y_pred_df.index:\n",
    "    if y_pred_df['smishing'][n] == 1:\n",
    "        counter.append(y_pred_df['smishing'][n])\n",
    "        \n",
    "print(len(counter)) # You can see how many smishing data is included in predict data       "
   ]
  }
 ],
 "metadata": {
  "kernelspec": {
   "display_name": "Python 3",
   "language": "python",
   "name": "python3"
  },
  "language_info": {
   "codemirror_mode": {
    "name": "ipython",
    "version": 3
   },
   "file_extension": ".py",
   "mimetype": "text/x-python",
   "name": "python",
   "nbconvert_exporter": "python",
   "pygments_lexer": "ipython3",
   "version": "3.7.4"
  }
 },
 "nbformat": 4,
 "nbformat_minor": 2
}
